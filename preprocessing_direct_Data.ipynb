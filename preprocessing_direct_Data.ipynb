{
 "cells": [
  {
   "cell_type": "code",
   "execution_count": 2,
   "id": "a6dcb99b",
   "metadata": {},
   "outputs": [
    {
     "name": "stdout",
     "output_type": "stream",
     "text": [
      "Creating..../num10.jpg\n"
     ]
    }
   ],
   "source": [
    "import os\n",
    "import cv2\n",
    "  \n",
    "# Read the input image\n",
    "\n",
    "img = cv2.imread(r'face2.jpg')\n",
    "\n",
    "\"\"\" try:\n",
    "\t\n",
    "\t# creating a folder named data\n",
    "\tif not os.path.exists('detected_face'):\n",
    "\t\tos.makedirs('detected_face')\n",
    "\n",
    "# if not created then raise error\n",
    "except OSError:\n",
    "\tprint ('Error: Creating directory of detected_face')\n",
    "    \"\"\"\n",
    "currentImg = 0\n",
    "\n",
    "# Convert into grayscale\n",
    "gray = cv2.cvtColor(img, cv2.COLOR_BGR2GRAY)\n",
    "\n",
    "face_cascade = cv2.CascadeClassifier('haarcascade_frontalface_alt2.xml')\n",
    "  \n",
    "# Detect faces\n",
    "faces = face_cascade.detectMultiScale(gray, 1.1, 4)\n",
    "\n",
    "for (x, y, w, h) in faces:\n",
    "    cv2.rectangle(img, (x, y), (x+w, y+h), \n",
    "                  (0, 0, 255), 2) \n",
    "      \n",
    "    faces = img[y:y + h, x:x + w] \n",
    "    currentImg += 1 \n",
    "    #cv2.imshow(\"face\",faces)\n",
    "    name = './num' + str(currentImg+9) + '.jpg'\n",
    "    print ('Creating...' + name) \n",
    "    cv2.imwrite(name, faces)\n",
    "    #cv2.imwrite('detected_face/face3.jpg', faces) \n"
   ]
  }
 ],
 "metadata": {
  "kernelspec": {
   "display_name": "Python 3 (ipykernel)",
   "language": "python",
   "name": "python3"
  },
  "language_info": {
   "codemirror_mode": {
    "name": "ipython",
    "version": 3
   },
   "file_extension": ".py",
   "mimetype": "text/x-python",
   "name": "python",
   "nbconvert_exporter": "python",
   "pygments_lexer": "ipython3",
   "version": "3.9.12"
  }
 },
 "nbformat": 4,
 "nbformat_minor": 5
}
